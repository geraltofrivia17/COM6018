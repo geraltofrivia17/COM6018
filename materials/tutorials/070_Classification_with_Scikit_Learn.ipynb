{
 "cells": [
  {
   "cell_type": "markdown",
   "id": "240159d1",
   "metadata": {},
   "source": [
    "# 070 Classification with Scikit-Learn\n",
    "\n",
    "> COM6018\n",
    "\n",
    "*Copyright &copy; 2023 Jon Barker, University of Sheffield. All rights reserved*.\n",
    "\n",
    "## 1. Introduction\n",
    "\n",
    "In the previous tutorial, we saw how to build a simple $k$-nearest neighbour classifier with Scikit-Learn. In this tutorial we will show how other more sophisticated classifiers can be built and evaluated. We will see how Scikit-Learn's consistent API makes it very easy to experiment with and compare different approaches.\n",
    "\n",
    "In this tutorial we will be using another of SciKit-Learn's inbuilt datasets, the Wisconsin breast cancer diagnosis dataset. This dataset has 569 samples of images of cell nuclei from breast material. 212 come from samples that have been diagnosed as malignant (i.e., cancerous) and 357 as benign (i.e., non-cancerous). For each sample, 10 basic cell nuclei parameters are defined, such as radius, perimeter length, compactness, etc. For each of these parameters, multiple nuclei are measured in the sample image and the mean, standard error and worst (i.e., largest) values are reported, i.e., providing 3 x 10 = 30 features in total.\n",
    "\n",
    "The task is to build a classifier that can distinguish between malignant and benign samples. Note, this is a two-class classification problem, which can also be referred to as a **binary classification problem**. In this case, where one of the classes refers to the 'presence' of something (i.e., cancer) the task can be considered as a **detection task**. Later, when we look at the evaluation of the classifier, we will talk separately about two different types of error, i.e., non-cancerous samples being classed as cancerous, and cancerous being classified as non-cancerous which we call **false positives** and **false negatives**, respectively.\n",
    "\n",
    "## 2. Loading and viewing the data\n",
    "\n",
    "As the data is a built-in dataset, loading it is very straightforward and looks similar to the code that was used to load the 'iris' dataset,"
   ]
  },
  {
   "cell_type": "code",
   "execution_count": 1,
   "id": "c7438d44",
   "metadata": {
    "execution": {
     "iopub.execute_input": "2023-07-12T13:23:22.216312Z",
     "iopub.status.busy": "2023-07-12T13:23:22.216004Z",
     "iopub.status.idle": "2023-07-12T13:23:22.661778Z",
     "shell.execute_reply": "2023-07-12T13:23:22.661387Z"
    }
   },
   "outputs": [],
   "source": [
    "from sklearn.datasets import load_breast_cancer\n",
    "data = load_breast_cancer()"
   ]
  },
  {
   "cell_type": "markdown",
   "id": "d3e1efaf",
   "metadata": {},
   "source": [
    "We can check that the data has loaded by printing out data's `DESCR` attribute."
   ]
  },
  {
   "cell_type": "code",
   "execution_count": 2,
   "id": "7ee06e96",
   "metadata": {
    "execution": {
     "iopub.execute_input": "2023-07-12T13:23:22.663638Z",
     "iopub.status.busy": "2023-07-12T13:23:22.663499Z",
     "iopub.status.idle": "2023-07-12T13:23:22.665473Z",
     "shell.execute_reply": "2023-07-12T13:23:22.665232Z"
    }
   },
   "outputs": [
    {
     "name": "stdout",
     "output_type": "stream",
     "text": [
      ".. _breast_cancer_dataset:\n",
      "\n",
      "Breast cancer wisconsin (diagnostic) dataset\n",
      "--------------------------------------------\n",
      "\n",
      "**Data Set Characteristics:**\n",
      "\n",
      "    :Number of Instances: 569\n",
      "\n",
      "    :Number of Attributes: 30 numeric, predictive attributes and the class\n",
      "\n",
      "    :Attribute Information:\n",
      "        - radius (mean of distances from center to points on the perimeter)\n",
      "        - texture (standard deviation of gray-scale values)\n",
      "        - perimeter\n",
      "        - area\n",
      "        - smoothness (local variation in radius lengths)\n",
      "        - compactness (perimeter^2 / area - 1.0)\n",
      "        - concavity (severity of concave portions of the contour)\n",
      "        - concave points (number of concave portions of the contour)\n",
      "        - symmetry\n",
      "        - fractal dimension (\"coastline approximation\" - 1)\n",
      "\n",
      "        The mean, standard error, and \"worst\" or largest (mean of the three\n",
      "        worst/largest values) of these features were computed for each image,\n",
      "        resulting in 30 features.  For instance, field 0 is Mean Radius, field\n",
      "        10 is Radius SE, field 20 is Worst Radius.\n",
      "\n",
      "        - class:\n",
      "                - WDBC-Malignant\n",
      "                - WDBC-Benign\n",
      "\n",
      "    :Summary Statistics:\n",
      "\n",
      "    ===================================== ====== ======\n",
      "                                           Min    Max\n",
      "    ===================================== ====== ======\n",
      "    radius (mean):                        6.981  28.11\n",
      "    texture (mean):                       9.71   39.28\n",
      "    perimeter (mean):                     43.79  188.5\n",
      "    area (mean):                          143.5  2501.0\n",
      "    smoothness (mean):                    0.053  0.163\n",
      "    compactness (mean):                   0.019  0.345\n",
      "    concavity (mean):                     0.0    0.427\n",
      "    concave points (mean):                0.0    0.201\n",
      "    symmetry (mean):                      0.106  0.304\n",
      "    fractal dimension (mean):             0.05   0.097\n",
      "    radius (standard error):              0.112  2.873\n",
      "    texture (standard error):             0.36   4.885\n",
      "    perimeter (standard error):           0.757  21.98\n",
      "    area (standard error):                6.802  542.2\n",
      "    smoothness (standard error):          0.002  0.031\n",
      "    compactness (standard error):         0.002  0.135\n",
      "    concavity (standard error):           0.0    0.396\n",
      "    concave points (standard error):      0.0    0.053\n",
      "    symmetry (standard error):            0.008  0.079\n",
      "    fractal dimension (standard error):   0.001  0.03\n",
      "    radius (worst):                       7.93   36.04\n",
      "    texture (worst):                      12.02  49.54\n",
      "    perimeter (worst):                    50.41  251.2\n",
      "    area (worst):                         185.2  4254.0\n",
      "    smoothness (worst):                   0.071  0.223\n",
      "    compactness (worst):                  0.027  1.058\n",
      "    concavity (worst):                    0.0    1.252\n",
      "    concave points (worst):               0.0    0.291\n",
      "    symmetry (worst):                     0.156  0.664\n",
      "    fractal dimension (worst):            0.055  0.208\n",
      "    ===================================== ====== ======\n",
      "\n",
      "    :Missing Attribute Values: None\n",
      "\n",
      "    :Class Distribution: 212 - Malignant, 357 - Benign\n",
      "\n",
      "    :Creator:  Dr. William H. Wolberg, W. Nick Street, Olvi L. Mangasarian\n",
      "\n",
      "    :Donor: Nick Street\n",
      "\n",
      "    :Date: November, 1995\n",
      "\n",
      "This is a copy of UCI ML Breast Cancer Wisconsin (Diagnostic) datasets.\n",
      "https://goo.gl/U2Uwz2\n",
      "\n",
      "Features are computed from a digitized image of a fine needle\n",
      "aspirate (FNA) of a breast mass.  They describe\n",
      "characteristics of the cell nuclei present in the image.\n",
      "\n",
      "Separating plane described above was obtained using\n",
      "Multisurface Method-Tree (MSM-T) [K. P. Bennett, \"Decision Tree\n",
      "Construction Via Linear Programming.\" Proceedings of the 4th\n",
      "Midwest Artificial Intelligence and Cognitive Science Society,\n",
      "pp. 97-101, 1992], a classification method which uses linear\n",
      "programming to construct a decision tree.  Relevant features\n",
      "were selected using an exhaustive search in the space of 1-4\n",
      "features and 1-3 separating planes.\n",
      "\n",
      "The actual linear program used to obtain the separating plane\n",
      "in the 3-dimensional space is that described in:\n",
      "[K. P. Bennett and O. L. Mangasarian: \"Robust Linear\n",
      "Programming Discrimination of Two Linearly Inseparable Sets\",\n",
      "Optimization Methods and Software 1, 1992, 23-34].\n",
      "\n",
      "This database is also available through the UW CS ftp server:\n",
      "\n",
      "ftp ftp.cs.wisc.edu\n",
      "cd math-prog/cpo-dataset/machine-learn/WDBC/\n",
      "\n",
      ".. topic:: References\n",
      "\n",
      "   - W.N. Street, W.H. Wolberg and O.L. Mangasarian. Nuclear feature extraction \n",
      "     for breast tumor diagnosis. IS&T/SPIE 1993 International Symposium on \n",
      "     Electronic Imaging: Science and Technology, volume 1905, pages 861-870,\n",
      "     San Jose, CA, 1993.\n",
      "   - O.L. Mangasarian, W.N. Street and W.H. Wolberg. Breast cancer diagnosis and \n",
      "     prognosis via linear programming. Operations Research, 43(4), pages 570-577, \n",
      "     July-August 1995.\n",
      "   - W.H. Wolberg, W.N. Street, and O.L. Mangasarian. Machine learning techniques\n",
      "     to diagnose breast cancer from fine-needle aspirates. Cancer Letters 77 (1994) \n",
      "     163-171.\n"
     ]
    }
   ],
   "source": [
    "print(data.DESCR)"
   ]
  },
  {
   "cell_type": "markdown",
   "id": "4072a519",
   "metadata": {},
   "source": [
    "Compared to the iris dataset from the last tutorial, visualisation of the data is less straightforward as there are 30 features rather than just 4. A `pairplot`, like the one used in the previous tutorial, would produce a 30 by 30 grid of scatter plots which would be very difficult to interpret. Instead, we can use a heatmap to visualise the correlation between all pairs of features.\n",
    "\n",
    "To make things a little easier, we will consider just the first 10 features, i.e., the features that correspond to the mean values of the cell measurements."
   ]
  },
  {
   "cell_type": "code",
   "execution_count": 3,
   "id": "a8195eae",
   "metadata": {
    "execution": {
     "iopub.execute_input": "2023-07-12T13:23:22.667089Z",
     "iopub.status.busy": "2023-07-12T13:23:22.666979Z",
     "iopub.status.idle": "2023-07-12T13:23:23.154267Z",
     "shell.execute_reply": "2023-07-12T13:23:23.153935Z"
    }
   },
   "outputs": [
    {
     "data": {
      "image/png": "[encoded data removed]",
      "text/plain": [
       "<Figure size 600x600 with 2 Axes>"
      ]
     },
     "metadata": {},
     "output_type": "display_data"
    }
   ],
   "source": [
    "import matplotlib.pyplot as plt\n",
    "import seaborn as sns\n",
    "import numpy as np\n",
    "plt.figure(figsize=(6,6))\n",
    "sns.heatmap(np.corrcoef(data.data[:,0:10].T), annot=True, fmt='.2f', cmap='coolwarm')\n",
    "plt.show()"
   ]
  },
  {
   "cell_type": "markdown",
   "id": "9f28387c",
   "metadata": {},
   "source": [
    "Note, this plot shows that features with the indexes 0, 2 and 3 are highly correlated with each other. In fact, the correlation coefficient of each pair is practically 1.0. This means that these features are providing almost identical information about the sample. If we look to see what they are, we find that they are the mean radius, mean perimeter and mean area of the cell nuclei. The high correlation between these measurements is not surprising as these are all measures of the nuclei's size.\n",
    "\n",
    "A high degree of correlation between features can cause problems for some classifiers. At the very least, it means that the classifier is being given redundant information. It could be a sensible decision to just remove two of these three features right from the start, e.g., retain the radius feature but remove the perimeter and area features. However, we will leave them in for now and see how the different types of classifier perform.\n",
    "\n",
    "## 3. Setting up the data split\n",
    "\n",
    "As before, we will split the data into training and test sets. We will use the same 75/25 split that we used before."
   ]
  },
  {
   "cell_type": "code",
   "execution_count": 4,
   "id": "c45877fa",
   "metadata": {
    "execution": {
     "iopub.execute_input": "2023-07-12T13:23:23.156066Z",
     "iopub.status.busy": "2023-07-12T13:23:23.155902Z",
     "iopub.status.idle": "2023-07-12T13:23:23.181931Z",
     "shell.execute_reply": "2023-07-12T13:23:23.181658Z"
    }
   },
   "outputs": [],
   "source": [
    "from sklearn.model_selection import train_test_split\n",
    "X_train, X_test, y_train, y_test = train_test_split(data.data, data.target, test_size=0.25, random_state=0)"
   ]
  },
  {
   "cell_type": "markdown",
   "id": "7f34b220",
   "metadata": {},
   "source": [
    "Again, note how we have given a value to the `random_state` parameter to explicitly seed the internal random number generator. Remember, this random number generator is used when shuffling the data prior to splitting it. Setting the seed will mean that we can reproduce the same split each time we (or others) run the code.\n",
    "\n",
    "We will use the same train/test split for all the classifiers that follow.\n",
    "\n",
    "## 4. Experimenting with different classifiers\n",
    "\n",
    "In this section, we will demonstrate how Scikit-Learn can be used to easily experiment with a variety of different classifiers. We will start by repeating the use of the $k$-Nearest Neighbour classifier from the previous tutorial. We will then write equivalent code for three further classes of classifier,\n",
    "\n",
    "- Support Vector Machines\n",
    "- Random Forests\n",
    "- Neural Networks\n",
    "\n",
    "The purpose of this tutorial is not to delve into the theory of these particular classifiers but rather to see how the Scikit-Learn API provides a simple and consistent interface, i.e., we can swap between classifiers with very little change to the code.\n",
    "\n",
    "### 4.1 $k$-Nearest Neighbour Classifier\n",
    "\n",
    "We will start by repeating the $k$-Nearest Neighbour classifier from the previous tutorial.\n",
    "\n",
    "We will use a value of 5 for $k$. This might not be the best value; we could optimise it using cross-validation, but we will not worry about that for now.\n",
    "\n",
    "First we need to train the model. Again, the code below will look identical to the code that we used when applying the classifier to the iris dataset."
   ]
  },
  {
   "cell_type": "code",
   "execution_count": 5,
   "id": "89e056a8",
   "metadata": {
    "execution": {
     "iopub.execute_input": "2023-07-12T13:23:23.183539Z",
     "iopub.status.busy": "2023-07-12T13:23:23.183449Z",
     "iopub.status.idle": "2023-07-12T13:23:23.222889Z",
     "shell.execute_reply": "2023-07-12T13:23:23.222598Z"
    }
   },
   "outputs": [
    {
     "data": {
      "text/html": [
       "<style>#sk-container-id-1 {color: black;}#sk-container-id-1 pre{padding: 0;}#sk-container-id-1 div.sk-toggleable {background-color: white;}#sk-container-id-1 label.sk-toggleable__label {cursor: pointer;display: block;width: 100%;margin-bottom: 0;padding: 0.3em;box-sizing: border-box;text-align: center;}#sk-container-id-1 label.sk-toggleable__label-arrow:before {content: \"▸\";float: left;margin-right: 0.25em;color: #696969;}#sk-container-id-1 label.sk-toggleable__label-arrow:hover:before {color: black;}#sk-container-id-1 div.sk-estimator:hover label.sk-toggleable__label-arrow:before {color: black;}#sk-container-id-1 div.sk-toggleable__content {max-height: 0;max-width: 0;overflow: hidden;text-align: left;background-color: #f0f8ff;}#sk-container-id-1 div.sk-toggleable__content pre {margin: 0.2em;color: black;border-radius: 0.25em;background-color: #f0f8ff;}#sk-container-id-1 input.sk-toggleable__control:checked~div.sk-toggleable__content {max-height: 200px;max-width: 100%;overflow: auto;}#sk-container-id-1 input.sk-toggleable__control:checked~label.sk-toggleable__label-arrow:before {content: \"▾\";}#sk-container-id-1 div.sk-estimator input.sk-toggleable__control:checked~label.sk-toggleable__label {background-color: #d4ebff;}#sk-container-id-1 div.sk-label input.sk-toggleable__control:checked~label.sk-toggleable__label {background-color: #d4ebff;}#sk-container-id-1 input.sk-hidden--visually {border: 0;clip: rect(1px 1px 1px 1px);clip: rect(1px, 1px, 1px, 1px);height: 1px;margin: -1px;overflow: hidden;padding: 0;position: absolute;width: 1px;}#sk-container-id-1 div.sk-estimator {font-family: monospace;background-color: #f0f8ff;border: 1px dotted black;border-radius: 0.25em;box-sizing: border-box;margin-bottom: 0.5em;}#sk-container-id-1 div.sk-estimator:hover {background-color: #d4ebff;}#sk-container-id-1 div.sk-parallel-item::after {content: \"\";width: 100%;border-bottom: 1px solid gray;flex-grow: 1;}#sk-container-id-1 div.sk-label:hover label.sk-toggleable__label {background-color: #d4ebff;}#sk-container-id-1 div.sk-serial::before {content: \"\";position: absolute;border-left: 1px solid gray;box-sizing: border-box;top: 0;bottom: 0;left: 50%;z-index: 0;}#sk-container-id-1 div.sk-serial {display: flex;flex-direction: column;align-items: center;background-color: white;padding-right: 0.2em;padding-left: 0.2em;position: relative;}#sk-container-id-1 div.sk-item {position: relative;z-index: 1;}#sk-container-id-1 div.sk-parallel {display: flex;align-items: stretch;justify-content: center;background-color: white;position: relative;}#sk-container-id-1 div.sk-item::before, #sk-container-id-1 div.sk-parallel-item::before {content: \"\";position: absolute;border-left: 1px solid gray;box-sizing: border-box;top: 0;bottom: 0;left: 50%;z-index: -1;}#sk-container-id-1 div.sk-parallel-item {display: flex;flex-direction: column;z-index: 1;position: relative;background-color: white;}#sk-container-id-1 div.sk-parallel-item:first-child::after {align-self: flex-end;width: 50%;}#sk-container-id-1 div.sk-parallel-item:last-child::after {align-self: flex-start;width: 50%;}#sk-container-id-1 div.sk-parallel-item:only-child::after {width: 0;}#sk-container-id-1 div.sk-dashed-wrapped {border: 1px dashed gray;margin: 0 0.4em 0.5em 0.4em;box-sizing: border-box;padding-bottom: 0.4em;background-color: white;}#sk-container-id-1 div.sk-label label {font-family: monospace;font-weight: bold;display: inline-block;line-height: 1.2em;}#sk-container-id-1 div.sk-label-container {text-align: center;}#sk-container-id-1 div.sk-container {/* jupyter's `normalize.less` sets `[hidden] { display: none; }` but bootstrap.min.css set `[hidden] { display: none !important; }` so we also need the `!important` here to be able to override the default hidden behavior on the sphinx rendered scikit-learn.org. See: https://github.com/scikit-learn/scikit-learn/issues/21755 */display: inline-block !important;position: relative;}#sk-container-id-1 div.sk-text-repr-fallback {display: none;}</style><div id=\"sk-container-id-1\" class=\"sk-top-container\"><div class=\"sk-text-repr-fallback\"><pre>KNeighborsClassifier()</pre><b>In a Jupyter environment, please rerun this cell to show the HTML representation or trust the notebook. <br />On GitHub, the HTML representation is unable to render, please try loading this page with nbviewer.org.</b></div><div class=\"sk-container\" hidden><div class=\"sk-item\"><div class=\"sk-estimator sk-toggleable\"><input class=\"sk-toggleable__control sk-hidden--visually\" id=\"sk-estimator-id-1\" type=\"checkbox\" checked><label for=\"sk-estimator-id-1\" class=\"sk-toggleable__label sk-toggleable__label-arrow\">KNeighborsClassifier</label><div class=\"sk-toggleable__content\"><pre>KNeighborsClassifier()</pre></div></div></div></div></div>"
      ],
      "text/plain": [
       "KNeighborsClassifier()"
      ]
     },
     "execution_count": 5,
     "metadata": {},
     "output_type": "execute_result"
    }
   ],
   "source": [
    "from sklearn.neighbors import KNeighborsClassifier\n",
    "model = KNeighborsClassifier(n_neighbors=5)\n",
    "model.fit(X_train, y_train)"
   ]
  },
  {
   "cell_type": "markdown",
   "id": "2649f25c",
   "metadata": {},
   "source": [
    "Then we measure the performance on the test set."
   ]
  },
  {
   "cell_type": "code",
   "execution_count": 6,
   "id": "34efd63e",
   "metadata": {
    "execution": {
     "iopub.execute_input": "2023-07-12T13:23:23.224588Z",
     "iopub.status.busy": "2023-07-12T13:23:23.224468Z",
     "iopub.status.idle": "2023-07-12T13:23:23.356939Z",
     "shell.execute_reply": "2023-07-12T13:23:23.353667Z"
    }
   },
   "outputs": [
    {
     "name": "stdout",
     "output_type": "stream",
     "text": [
      "0.9370629370629371\n"
     ]
    }
   ],
   "source": [
    "from sklearn import metrics\n",
    "y_pred = model.predict(X_test)\n",
    "print(metrics.accuracy_score(y_test, y_pred))"
   ]
  },
  {
   "cell_type": "markdown",
   "id": "3d8c86ae",
   "metadata": {},
   "source": [
    "In the above, we performed the scoring in two steps: first we ran `predict` with the test data to obtain the predicted labels, then we compared the predicted labels with the true labels to compute the score using `accuracy_score` from the metrics module. If we are not interested in seeing the actual predicted labels, then we can more conveniently perform the evaluation in a single step using the model's `score` method. This method takes the test data and test labels as arguments. It then generates predictions and compares them with the true labels to compute the score."
   ]
  },
  {
   "cell_type": "code",
   "execution_count": 7,
   "id": "eafc2af6",
   "metadata": {
    "execution": {
     "iopub.execute_input": "2023-07-12T13:23:23.361358Z",
     "iopub.status.busy": "2023-07-12T13:23:23.360911Z",
     "iopub.status.idle": "2023-07-12T13:23:23.396183Z",
     "shell.execute_reply": "2023-07-12T13:23:23.394691Z"
    }
   },
   "outputs": [
    {
     "name": "stdout",
     "output_type": "stream",
     "text": [
      "0.9370629370629371\n"
     ]
    }
   ],
   "source": [
    "score = model.score(X_test, y_test)\n",
    "print(score)"
   ]
  },
  {
   "cell_type": "markdown",
   "id": "6f1477d2",
   "metadata": {},
   "source": [
    "We achieve a score of 93.7%. This appears to be a good result, but we will now rerun the experiment using other classification techniques to see if we can do better.\n",
    "\n",
    "### 4.2 Support Vector Machine Classifier\n",
    "\n",
    "We will now try a different type of classifier, the **Support Vector Machine (SVM)**. The SVM classifier is a very popular classifier and is often used as a baseline for comparison with other classifiers. In brief, the SVM classifier works by finding a hyperplane (i.e., an N-dimensional plane) that separates the data into two classes. The hyperplane is chosen so that the margin between the hyperplane and the nearest data points from each class is maximised. In its basic form it finds linear (i.e., flat) planes between the classes but a so-called `kernel` transform can be applied to the data as a preprocessing step, so although the planes are linear in the transformed space they are not linear in the original feature space.\n",
    "\n",
    "We will use the default settings for the SVM, which uses a radial basis function (RBF) kernel. We will also use the default value for the **regularisation parameter** $C$, which is 1.0. This parameter effectively controls the hardness of the decisions the SVM makes during training: a value close to one mean that the classifier makes hard (i.e., binary) decisions, whereas a lower value will 'soften' the decision. Using a lower value will help to prevent the SVM from **overfitting** the training data.\n",
    "\n",
    "Without going into the details of how an SVM works, just look at the code below and see how similar it is to the equivalent code for the nearest neighbour classifier.\n",
    "\n",
    "We import the SVC module class and make a default model instance. Then we 'fit' the model using the training data,"
   ]
  },
  {
   "cell_type": "code",
   "execution_count": 8,
   "id": "9106f584",
   "metadata": {
    "execution": {
     "iopub.execute_input": "2023-07-12T13:23:23.397965Z",
     "iopub.status.busy": "2023-07-12T13:23:23.397841Z",
     "iopub.status.idle": "2023-07-12T13:23:23.413069Z",
     "shell.execute_reply": "2023-07-12T13:23:23.411633Z"
    }
   },
   "outputs": [
    {
     "data": {
      "text/html": [
       "<style>#sk-container-id-2 {color: black;}#sk-container-id-2 pre{padding: 0;}#sk-container-id-2 div.sk-toggleable {background-color: white;}#sk-container-id-2 label.sk-toggleable__label {cursor: pointer;display: block;width: 100%;margin-bottom: 0;padding: 0.3em;box-sizing: border-box;text-align: center;}#sk-container-id-2 label.sk-toggleable__label-arrow:before {content: \"▸\";float: left;margin-right: 0.25em;color: #696969;}#sk-container-id-2 label.sk-toggleable__label-arrow:hover:before {color: black;}#sk-container-id-2 div.sk-estimator:hover label.sk-toggleable__label-arrow:before {color: black;}#sk-container-id-2 div.sk-toggleable__content {max-height: 0;max-width: 0;overflow: hidden;text-align: left;background-color: #f0f8ff;}#sk-container-id-2 div.sk-toggleable__content pre {margin: 0.2em;color: black;border-radius: 0.25em;background-color: #f0f8ff;}#sk-container-id-2 input.sk-toggleable__control:checked~div.sk-toggleable__content {max-height: 200px;max-width: 100%;overflow: auto;}#sk-container-id-2 input.sk-toggleable__control:checked~label.sk-toggleable__label-arrow:before {content: \"▾\";}#sk-container-id-2 div.sk-estimator input.sk-toggleable__control:checked~label.sk-toggleable__label {background-color: #d4ebff;}#sk-container-id-2 div.sk-label input.sk-toggleable__control:checked~label.sk-toggleable__label {background-color: #d4ebff;}#sk-container-id-2 input.sk-hidden--visually {border: 0;clip: rect(1px 1px 1px 1px);clip: rect(1px, 1px, 1px, 1px);height: 1px;margin: -1px;overflow: hidden;padding: 0;position: absolute;width: 1px;}#sk-container-id-2 div.sk-estimator {font-family: monospace;background-color: #f0f8ff;border: 1px dotted black;border-radius: 0.25em;box-sizing: border-box;margin-bottom: 0.5em;}#sk-container-id-2 div.sk-estimator:hover {background-color: #d4ebff;}#sk-container-id-2 div.sk-parallel-item::after {content: \"\";width: 100%;border-bottom: 1px solid gray;flex-grow: 1;}#sk-container-id-2 div.sk-label:hover label.sk-toggleable__label {background-color: #d4ebff;}#sk-container-id-2 div.sk-serial::before {content: \"\";position: absolute;border-left: 1px solid gray;box-sizing: border-box;top: 0;bottom: 0;left: 50%;z-index: 0;}#sk-container-id-2 div.sk-serial {display: flex;flex-direction: column;align-items: center;background-color: white;padding-right: 0.2em;padding-left: 0.2em;position: relative;}#sk-container-id-2 div.sk-item {position: relative;z-index: 1;}#sk-container-id-2 div.sk-parallel {display: flex;align-items: stretch;justify-content: center;background-color: white;position: relative;}#sk-container-id-2 div.sk-item::before, #sk-container-id-2 div.sk-parallel-item::before {content: \"\";position: absolute;border-left: 1px solid gray;box-sizing: border-box;top: 0;bottom: 0;left: 50%;z-index: -1;}#sk-container-id-2 div.sk-parallel-item {display: flex;flex-direction: column;z-index: 1;position: relative;background-color: white;}#sk-container-id-2 div.sk-parallel-item:first-child::after {align-self: flex-end;width: 50%;}#sk-container-id-2 div.sk-parallel-item:last-child::after {align-self: flex-start;width: 50%;}#sk-container-id-2 div.sk-parallel-item:only-child::after {width: 0;}#sk-container-id-2 div.sk-dashed-wrapped {border: 1px dashed gray;margin: 0 0.4em 0.5em 0.4em;box-sizing: border-box;padding-bottom: 0.4em;background-color: white;}#sk-container-id-2 div.sk-label label {font-family: monospace;font-weight: bold;display: inline-block;line-height: 1.2em;}#sk-container-id-2 div.sk-label-container {text-align: center;}#sk-container-id-2 div.sk-container {/* jupyter's `normalize.less` sets `[hidden] { display: none; }` but bootstrap.min.css set `[hidden] { display: none !important; }` so we also need the `!important` here to be able to override the default hidden behavior on the sphinx rendered scikit-learn.org. See: https://github.com/scikit-learn/scikit-learn/issues/21755 */display: inline-block !important;position: relative;}#sk-container-id-2 div.sk-text-repr-fallback {display: none;}</style><div id=\"sk-container-id-2\" class=\"sk-top-container\"><div class=\"sk-text-repr-fallback\"><pre>SVC()</pre><b>In a Jupyter environment, please rerun this cell to show the HTML representation or trust the notebook. <br />On GitHub, the HTML representation is unable to render, please try loading this page with nbviewer.org.</b></div><div class=\"sk-container\" hidden><div class=\"sk-item\"><div class=\"sk-estimator sk-toggleable\"><input class=\"sk-toggleable__control sk-hidden--visually\" id=\"sk-estimator-id-2\" type=\"checkbox\" checked><label for=\"sk-estimator-id-2\" class=\"sk-toggleable__label sk-toggleable__label-arrow\">SVC</label><div class=\"sk-toggleable__content\"><pre>SVC()</pre></div></div></div></div></div>"
      ],
      "text/plain": [
       "SVC()"
      ]
     },
     "execution_count": 8,
     "metadata": {},
     "output_type": "execute_result"
    }
   ],
   "source": [
    "from sklearn.svm import SVC\n",
    "model_svm = SVC()\n",
    "model_svm.fit(X_train, y_train)"
   ]
  },
  {
   "cell_type": "markdown",
   "id": "70f049a8",
   "metadata": {},
   "source": [
    "After the model has been fitted (i.e., trained), we can evaluate it using the test data (again, we can use the `score` method to do this in a single step`)"
   ]
  },
  {
   "cell_type": "code",
   "execution_count": 9,
   "id": "df365482",
   "metadata": {
    "execution": {
     "iopub.execute_input": "2023-07-12T13:23:23.416891Z",
     "iopub.status.busy": "2023-07-12T13:23:23.416253Z",
     "iopub.status.idle": "2023-07-12T13:23:23.424916Z",
     "shell.execute_reply": "2023-07-12T13:23:23.424031Z"
    }
   },
   "outputs": [
    {
     "name": "stdout",
     "output_type": "stream",
     "text": [
      "0.9370629370629371\n"
     ]
    }
   ],
   "source": [
    "score = model_svm.score(X_test, y_test)\n",
    "print(score)"
   ]
  },
  {
   "cell_type": "markdown",
   "id": "fd2a13fe",
   "metadata": {},
   "source": [
    "This classifier happens to achieve the same result as the nearest neighbour classifier, i.e., 93.7%. However, this is not always the case. The SVM and kNN classifiers are very different types of classifier and so we would expect them perform differently, e.g., we will see later that the SVM classifier can be very robust to the presence of redundant features.\n",
    "\n",
    "### 4.3 Random Forest Classifier\n",
    "\n",
    "We will now try a third type of classifier, the **Random Forest classifier**. This is an ensemble classifier that combines the predictions of multiple decision trees. We will use the default settings for the Random Forest, which uses 100 decision trees.\n",
    "\n",
    "Again, without going into the details of how a Random Forest works, just examine the code below and note the similarity between this and the equivalent code for the nearest neighbour classifier.\n",
    "\n",
    "First we make an instance of the model which we fit using the training data,"
   ]
  },
  {
   "cell_type": "code",
   "execution_count": 10,
   "id": "d45d2caa",
   "metadata": {
    "execution": {
     "iopub.execute_input": "2023-07-12T13:23:23.429088Z",
     "iopub.status.busy": "2023-07-12T13:23:23.428299Z",
     "iopub.status.idle": "2023-07-12T13:23:23.561388Z",
     "shell.execute_reply": "2023-07-12T13:23:23.561040Z"
    }
   },
   "outputs": [
    {
     "data": {
      "text/html": [
       "<style>#sk-container-id-3 {color: black;}#sk-container-id-3 pre{padding: 0;}#sk-container-id-3 div.sk-toggleable {background-color: white;}#sk-container-id-3 label.sk-toggleable__label {cursor: pointer;display: block;width: 100%;margin-bottom: 0;padding: 0.3em;box-sizing: border-box;text-align: center;}#sk-container-id-3 label.sk-toggleable__label-arrow:before {content: \"▸\";float: left;margin-right: 0.25em;color: #696969;}#sk-container-id-3 label.sk-toggleable__label-arrow:hover:before {color: black;}#sk-container-id-3 div.sk-estimator:hover label.sk-toggleable__label-arrow:before {color: black;}#sk-container-id-3 div.sk-toggleable__content {max-height: 0;max-width: 0;overflow: hidden;text-align: left;background-color: #f0f8ff;}#sk-container-id-3 div.sk-toggleable__content pre {margin: 0.2em;color: black;border-radius: 0.25em;background-color: #f0f8ff;}#sk-container-id-3 input.sk-toggleable__control:checked~div.sk-toggleable__content {max-height: 200px;max-width: 100%;overflow: auto;}#sk-container-id-3 input.sk-toggleable__control:checked~label.sk-toggleable__label-arrow:before {content: \"▾\";}#sk-container-id-3 div.sk-estimator input.sk-toggleable__control:checked~label.sk-toggleable__label {background-color: #d4ebff;}#sk-container-id-3 div.sk-label input.sk-toggleable__control:checked~label.sk-toggleable__label {background-color: #d4ebff;}#sk-container-id-3 input.sk-hidden--visually {border: 0;clip: rect(1px 1px 1px 1px);clip: rect(1px, 1px, 1px, 1px);height: 1px;margin: -1px;overflow: hidden;padding: 0;position: absolute;width: 1px;}#sk-container-id-3 div.sk-estimator {font-family: monospace;background-color: #f0f8ff;border: 1px dotted black;border-radius: 0.25em;box-sizing: border-box;margin-bottom: 0.5em;}#sk-container-id-3 div.sk-estimator:hover {background-color: #d4ebff;}#sk-container-id-3 div.sk-parallel-item::after {content: \"\";width: 100%;border-bottom: 1px solid gray;flex-grow: 1;}#sk-container-id-3 div.sk-label:hover label.sk-toggleable__label {background-color: #d4ebff;}#sk-container-id-3 div.sk-serial::before {content: \"\";position: absolute;border-left: 1px solid gray;box-sizing: border-box;top: 0;bottom: 0;left: 50%;z-index: 0;}#sk-container-id-3 div.sk-serial {display: flex;flex-direction: column;align-items: center;background-color: white;padding-right: 0.2em;padding-left: 0.2em;position: relative;}#sk-container-id-3 div.sk-item {position: relative;z-index: 1;}#sk-container-id-3 div.sk-parallel {display: flex;align-items: stretch;justify-content: center;background-color: white;position: relative;}#sk-container-id-3 div.sk-item::before, #sk-container-id-3 div.sk-parallel-item::before {content: \"\";position: absolute;border-left: 1px solid gray;box-sizing: border-box;top: 0;bottom: 0;left: 50%;z-index: -1;}#sk-container-id-3 div.sk-parallel-item {display: flex;flex-direction: column;z-index: 1;position: relative;background-color: white;}#sk-container-id-3 div.sk-parallel-item:first-child::after {align-self: flex-end;width: 50%;}#sk-container-id-3 div.sk-parallel-item:last-child::after {align-self: flex-start;width: 50%;}#sk-container-id-3 div.sk-parallel-item:only-child::after {width: 0;}#sk-container-id-3 div.sk-dashed-wrapped {border: 1px dashed gray;margin: 0 0.4em 0.5em 0.4em;box-sizing: border-box;padding-bottom: 0.4em;background-color: white;}#sk-container-id-3 div.sk-label label {font-family: monospace;font-weight: bold;display: inline-block;line-height: 1.2em;}#sk-container-id-3 div.sk-label-container {text-align: center;}#sk-container-id-3 div.sk-container {/* jupyter's `normalize.less` sets `[hidden] { display: none; }` but bootstrap.min.css set `[hidden] { display: none !important; }` so we also need the `!important` here to be able to override the default hidden behavior on the sphinx rendered scikit-learn.org. See: https://github.com/scikit-learn/scikit-learn/issues/21755 */display: inline-block !important;position: relative;}#sk-container-id-3 div.sk-text-repr-fallback {display: none;}</style><div id=\"sk-container-id-3\" class=\"sk-top-container\"><div class=\"sk-text-repr-fallback\"><pre>RandomForestClassifier()</pre><b>In a Jupyter environment, please rerun this cell to show the HTML representation or trust the notebook. <br />On GitHub, the HTML representation is unable to render, please try loading this page with nbviewer.org.</b></div><div class=\"sk-container\" hidden><div class=\"sk-item\"><div class=\"sk-estimator sk-toggleable\"><input class=\"sk-toggleable__control sk-hidden--visually\" id=\"sk-estimator-id-3\" type=\"checkbox\" checked><label for=\"sk-estimator-id-3\" class=\"sk-toggleable__label sk-toggleable__label-arrow\">RandomForestClassifier</label><div class=\"sk-toggleable__content\"><pre>RandomForestClassifier()</pre></div></div></div></div></div>"
      ],
      "text/plain": [
       "RandomForestClassifier()"
      ]
     },
     "execution_count": 10,
     "metadata": {},
     "output_type": "execute_result"
    }
   ],
   "source": [
    "from sklearn.ensemble import RandomForestClassifier\n",
    "model_rf = RandomForestClassifier()\n",
    "model_rf.fit(X_train, y_train)"
   ]
  },
  {
   "cell_type": "markdown",
   "id": "e8510ad7",
   "metadata": {},
   "source": [
    "Then we evaluate the model using the test data (again, we can use the `score` method to do this in a single step`)"
   ]
  },
  {
   "cell_type": "code",
   "execution_count": 11,
   "id": "d7090a45",
   "metadata": {
    "execution": {
     "iopub.execute_input": "2023-07-12T13:23:23.563404Z",
     "iopub.status.busy": "2023-07-12T13:23:23.563284Z",
     "iopub.status.idle": "2023-07-12T13:23:23.568813Z",
     "shell.execute_reply": "2023-07-12T13:23:23.568526Z"
    }
   },
   "outputs": [
    {
     "name": "stdout",
     "output_type": "stream",
     "text": [
      "0.9790209790209791\n"
     ]
    }
   ],
   "source": [
    "score = model_rf.score(X_test, y_test)\n",
    "print(score)"
   ]
  },
  {
   "cell_type": "markdown",
   "id": "97c82f41",
   "metadata": {},
   "source": [
    "This classifier has performed better than the previous ones with a score of 97.2%.\n",
    "\n",
    "### 4.4 Neural Network Classifier\n",
    "\n",
    "Finally, we will try a fourth type of classifier, the Neural Network. We will use the default settings for the Neural Network, which uses a single hidden layer of 100 neurons. Neural network classifiers are incredibly versatile and to get best performance requires a lot of careful design and experimentation with the hyperparameters (this is a entire research field in its own right). Here we are using just the most basic type of fully-connected feed-forward neural network.\n",
    "\n",
    "Again, without going into the details of how a Neural Network works, just look at the code below and see how similar it is to the equivalent code for the nearest neighbour classifier.\n",
    "\n",
    "First we fit the model using the training data,"
   ]
  },
  {
   "cell_type": "code",
   "execution_count": 12,
   "id": "d3cc9c8e",
   "metadata": {
    "execution": {
     "iopub.execute_input": "2023-07-12T13:23:23.570561Z",
     "iopub.status.busy": "2023-07-12T13:23:23.570446Z",
     "iopub.status.idle": "2023-07-12T13:23:23.813098Z",
     "shell.execute_reply": "2023-07-12T13:23:23.811913Z"
    }
   },
   "outputs": [
    {
     "data": {
      "text/html": [
       "<style>#sk-container-id-4 {color: black;}#sk-container-id-4 pre{padding: 0;}#sk-container-id-4 div.sk-toggleable {background-color: white;}#sk-container-id-4 label.sk-toggleable__label {cursor: pointer;display: block;width: 100%;margin-bottom: 0;padding: 0.3em;box-sizing: border-box;text-align: center;}#sk-container-id-4 label.sk-toggleable__label-arrow:before {content: \"▸\";float: left;margin-right: 0.25em;color: #696969;}#sk-container-id-4 label.sk-toggleable__label-arrow:hover:before {color: black;}#sk-container-id-4 div.sk-estimator:hover label.sk-toggleable__label-arrow:before {color: black;}#sk-container-id-4 div.sk-toggleable__content {max-height: 0;max-width: 0;overflow: hidden;text-align: left;background-color: #f0f8ff;}#sk-container-id-4 div.sk-toggleable__content pre {margin: 0.2em;color: black;border-radius: 0.25em;background-color: #f0f8ff;}#sk-container-id-4 input.sk-toggleable__control:checked~div.sk-toggleable__content {max-height: 200px;max-width: 100%;overflow: auto;}#sk-container-id-4 input.sk-toggleable__control:checked~label.sk-toggleable__label-arrow:before {content: \"▾\";}#sk-container-id-4 div.sk-estimator input.sk-toggleable__control:checked~label.sk-toggleable__label {background-color: #d4ebff;}#sk-container-id-4 div.sk-label input.sk-toggleable__control:checked~label.sk-toggleable__label {background-color: #d4ebff;}#sk-container-id-4 input.sk-hidden--visually {border: 0;clip: rect(1px 1px 1px 1px);clip: rect(1px, 1px, 1px, 1px);height: 1px;margin: -1px;overflow: hidden;padding: 0;position: absolute;width: 1px;}#sk-container-id-4 div.sk-estimator {font-family: monospace;background-color: #f0f8ff;border: 1px dotted black;border-radius: 0.25em;box-sizing: border-box;margin-bottom: 0.5em;}#sk-container-id-4 div.sk-estimator:hover {background-color: #d4ebff;}#sk-container-id-4 div.sk-parallel-item::after {content: \"\";width: 100%;border-bottom: 1px solid gray;flex-grow: 1;}#sk-container-id-4 div.sk-label:hover label.sk-toggleable__label {background-color: #d4ebff;}#sk-container-id-4 div.sk-serial::before {content: \"\";position: absolute;border-left: 1px solid gray;box-sizing: border-box;top: 0;bottom: 0;left: 50%;z-index: 0;}#sk-container-id-4 div.sk-serial {display: flex;flex-direction: column;align-items: center;background-color: white;padding-right: 0.2em;padding-left: 0.2em;position: relative;}#sk-container-id-4 div.sk-item {position: relative;z-index: 1;}#sk-container-id-4 div.sk-parallel {display: flex;align-items: stretch;justify-content: center;background-color: white;position: relative;}#sk-container-id-4 div.sk-item::before, #sk-container-id-4 div.sk-parallel-item::before {content: \"\";position: absolute;border-left: 1px solid gray;box-sizing: border-box;top: 0;bottom: 0;left: 50%;z-index: -1;}#sk-container-id-4 div.sk-parallel-item {display: flex;flex-direction: column;z-index: 1;position: relative;background-color: white;}#sk-container-id-4 div.sk-parallel-item:first-child::after {align-self: flex-end;width: 50%;}#sk-container-id-4 div.sk-parallel-item:last-child::after {align-self: flex-start;width: 50%;}#sk-container-id-4 div.sk-parallel-item:only-child::after {width: 0;}#sk-container-id-4 div.sk-dashed-wrapped {border: 1px dashed gray;margin: 0 0.4em 0.5em 0.4em;box-sizing: border-box;padding-bottom: 0.4em;background-color: white;}#sk-container-id-4 div.sk-label label {font-family: monospace;font-weight: bold;display: inline-block;line-height: 1.2em;}#sk-container-id-4 div.sk-label-container {text-align: center;}#sk-container-id-4 div.sk-container {/* jupyter's `normalize.less` sets `[hidden] { display: none; }` but bootstrap.min.css set `[hidden] { display: none !important; }` so we also need the `!important` here to be able to override the default hidden behavior on the sphinx rendered scikit-learn.org. See: https://github.com/scikit-learn/scikit-learn/issues/21755 */display: inline-block !important;position: relative;}#sk-container-id-4 div.sk-text-repr-fallback {display: none;}</style><div id=\"sk-container-id-4\" class=\"sk-top-container\"><div class=\"sk-text-repr-fallback\"><pre>MLPClassifier()</pre><b>In a Jupyter environment, please rerun this cell to show the HTML representation or trust the notebook. <br />On GitHub, the HTML representation is unable to render, please try loading this page with nbviewer.org.</b></div><div class=\"sk-container\" hidden><div class=\"sk-item\"><div class=\"sk-estimator sk-toggleable\"><input class=\"sk-toggleable__control sk-hidden--visually\" id=\"sk-estimator-id-4\" type=\"checkbox\" checked><label for=\"sk-estimator-id-4\" class=\"sk-toggleable__label sk-toggleable__label-arrow\">MLPClassifier</label><div class=\"sk-toggleable__content\"><pre>MLPClassifier()</pre></div></div></div></div></div>"
      ],
      "text/plain": [
       "MLPClassifier()"
      ]
     },
     "execution_count": 12,
     "metadata": {},
     "output_type": "execute_result"
    }
   ],
   "source": [
    "from sklearn.neural_network import MLPClassifier\n",
    "model_nn = MLPClassifier()\n",
    "model_nn.fit(X_train, y_train)"
   ]
  },
  {
   "cell_type": "markdown",
   "id": "7bc4e1bd",
   "metadata": {},
   "source": [
    "Then we evaluate the model using the test data (again, we can use the `score` method to do this in a single step`)"
   ]
  },
  {
   "cell_type": "code",
   "execution_count": 13,
   "id": "bf0d6286",
   "metadata": {
    "execution": {
     "iopub.execute_input": "2023-07-12T13:23:23.817880Z",
     "iopub.status.busy": "2023-07-12T13:23:23.817375Z",
     "iopub.status.idle": "2023-07-12T13:23:23.826299Z",
     "shell.execute_reply": "2023-07-12T13:23:23.825197Z"
    }
   },
   "outputs": [
    {
     "name": "stdout",
     "output_type": "stream",
     "text": [
      "0.9230769230769231\n"
     ]
    }
   ],
   "source": [
    "score = model_nn.score(X_test, y_test)\n",
    "print(score)"
   ]
  },
  {
   "cell_type": "markdown",
   "id": "f2c5cebf",
   "metadata": {},
   "source": [
    "This time we have achieved a score of 94.4%. This is not as good as the Random Forest classifier, but still better than the nearest neighbour and SVM classifiers.\n",
    "\n",
    "Note, with different hyperparameters, any of these model could perhaps have been tuned to give a higher score. We will return to this point shortly.\n",
    "\n",
    "## 5. Feature preprocessing\n",
    "\n",
    "It is generally easier to build a classifier if we start with features that have a similar distribution, i.e., similar average value and similar spread. Scikit-Learn provides a number of data pre-processing tools that help us achieve this.\n",
    "\n",
    "### 5.1 Examining the data distribution\n",
    "\n",
    "Let us start by comparing the distribution of the raw features in the data. There are many plot types that can be used when comparing distributions, but a common one is the so-called **boxplot**. This plot shows the median value, the interquartile range (i.e., the range between the 25th and 75th percentiles), and the total range of the data. Outliers are also shown as individual points.\n",
    "\n",
    "We can easily generate this type of plot using the **seaborn package** that we have encountered earlier in the module.\n",
    "\n",
    "In the code below we use the `boxplot` function from seaborn to show the distribution of the 30 visual features in three rows of 10. The first row shows the distribution of 'mean value' features, the second row will be the distribution of the 'standard error' features, and the third row the 'worst value' features."
   ]
  },
  {
   "cell_type": "code",
   "execution_count": 14,
   "id": "9d4257f3",
   "metadata": {
    "execution": {
     "iopub.execute_input": "2023-07-12T13:23:23.831852Z",
     "iopub.status.busy": "2023-07-12T13:23:23.830120Z",
     "iopub.status.idle": "2023-07-12T13:23:24.183653Z",
     "shell.execute_reply": "2023-07-12T13:23:24.183219Z"
    }
   },
   "outputs": [
    {
     "data": {
      "image/png": "[encoded data removed]",
      "text/plain": [
       "<Figure size 600x600 with 3 Axes>"
      ]
     },
     "metadata": {},
     "output_type": "display_data"
    }
   ],
   "source": [
    "import seaborn as sns\n",
    "import matplotlib.pyplot as plt\n",
    "plt.figure(figsize=(6,6))\n",
    "plt.subplot(3,1,1)\n",
    "sns.boxplot(data=X_train[:,0:10])\n",
    "plt.subplot(3,1,2)\n",
    "sns.boxplot(data=X_train[:,10:20])\n",
    "plt.subplot(3,1,3)\n",
    "sns.boxplot(data=X_train[:,20:30])\n",
    "plt.show()"
   ]
  },
  {
   "cell_type": "markdown",
   "id": "9e166133",
   "metadata": {},
   "source": [
    "It can be seen from the plot that the features with indexes 2, 12 and 22 have slightly larger average values and spreads than the others, while features with indexes 3, 13 and 23 have a much greater average value and spread. These are the nucleus perimeter and area features. In fact, if we look back at the data description which we printed at the start of the tutorial, we will see that it reports a minimum and maximum value for each feature where we can also see that the ranges vary considerably.\n",
    "\n",
    "### 5.2 Scaling the data\n",
    "\n",
    "In order to make the feature distributions more similar we will apply so-called, **mean and variance scaling** to the data. This is a transformation that will transform each feature so that it has a mean of zero and a standard deviation of one. This process is called data **standardisation**. This will make the features easier for the classifier to learn.\n",
    "\n",
    "Scikit-Learn has a library of `transformers` which can be used for feature data preprocessing. We will use the `StandardScaler` transform that is defined in the `preprocessing` module. This works by computing an offset and scale factor for each feature and then applying the following transformation to each feature value.\n",
    "\n",
    "This is used as follows,"
   ]
  },
  {
   "cell_type": "code",
   "execution_count": 15,
   "id": "b150970a",
   "metadata": {
    "execution": {
     "iopub.execute_input": "2023-07-12T13:23:24.185831Z",
     "iopub.status.busy": "2023-07-12T13:23:24.185662Z",
     "iopub.status.idle": "2023-07-12T13:23:24.189250Z",
     "shell.execute_reply": "2023-07-12T13:23:24.188870Z"
    }
   },
   "outputs": [],
   "source": [
    "from sklearn.preprocessing import StandardScaler\n",
    "scaler = StandardScaler()\n",
    "X_train_scaled = scaler.fit_transform(X_train)\n",
    "X_test_scaled = scaler.transform(X_test)"
   ]
  },
  {
   "cell_type": "markdown",
   "id": "48c44665",
   "metadata": {},
   "source": [
    "In the code above, the `fit_transform` function learns the scale and offset parameters from the training data and also applies the transform to the data. The `transform` method then applies the *same* transform to the test data. Note, we do not call `fit_transform` on the test data as this would cause the test data to be scaled using a different scale and offset to that used for the training data.\n",
    "\n",
    "We can now replot the distributions of the scaled data."
   ]
  },
  {
   "cell_type": "code",
   "execution_count": 16,
   "id": "0ae2e55a",
   "metadata": {
    "execution": {
     "iopub.execute_input": "2023-07-12T13:23:24.191245Z",
     "iopub.status.busy": "2023-07-12T13:23:24.191132Z",
     "iopub.status.idle": "2023-07-12T13:23:24.492975Z",
     "shell.execute_reply": "2023-07-12T13:23:24.492554Z"
    }
   },
   "outputs": [
    {
     "data": {
      "image/png": "[encoded data removed]",
      "text/plain": [
       "<Figure size 600x600 with 3 Axes>"
      ]
     },
     "metadata": {},
     "output_type": "display_data"
    }
   ],
   "source": [
    "import seaborn as sns\n",
    "import matplotlib.pyplot as plt\n",
    "plt.figure(figsize=(6,6))\n",
    "plt.subplot(3,1,1)\n",
    "sns.boxplot(data=X_train_scaled[:,0:10], showmeans=True)\n",
    "plt.subplot(3,1,2)\n",
    "sns.boxplot(data=X_train_scaled[:,10:20],showmeans=True)\n",
    "plt.subplot(3,1,3)\n",
    "sns.boxplot(data=X_train_scaled[:,20:30],showmeans=True)\n",
    "plt.show()"
   ]
  },
  {
   "cell_type": "markdown",
   "id": "b5543f2a",
   "metadata": {},
   "source": [
    "As expected, the distributions of the features are now all very similar. Note, the horizontal bar in the boxplots shows the 'median' value. In the plot above the `showmeans=True` parameter has been used to add a point at the mean value. These should all be precisely at zero.\n",
    "\n",
    "Let's now repeat the $k$-Nearest Neighbour classifier using this scaled data. First, we fit the model using the scaled training data,"
   ]
  },
  {
   "cell_type": "code",
   "execution_count": 17,
   "id": "a19afb4d",
   "metadata": {
    "execution": {
     "iopub.execute_input": "2023-07-12T13:23:24.494936Z",
     "iopub.status.busy": "2023-07-12T13:23:24.494804Z",
     "iopub.status.idle": "2023-07-12T13:23:24.498246Z",
     "shell.execute_reply": "2023-07-12T13:23:24.497881Z"
    }
   },
   "outputs": [
    {
     "data": {
      "text/html": [
       "<style>#sk-container-id-5 {color: black;}#sk-container-id-5 pre{padding: 0;}#sk-container-id-5 div.sk-toggleable {background-color: white;}#sk-container-id-5 label.sk-toggleable__label {cursor: pointer;display: block;width: 100%;margin-bottom: 0;padding: 0.3em;box-sizing: border-box;text-align: center;}#sk-container-id-5 label.sk-toggleable__label-arrow:before {content: \"▸\";float: left;margin-right: 0.25em;color: #696969;}#sk-container-id-5 label.sk-toggleable__label-arrow:hover:before {color: black;}#sk-container-id-5 div.sk-estimator:hover label.sk-toggleable__label-arrow:before {color: black;}#sk-container-id-5 div.sk-toggleable__content {max-height: 0;max-width: 0;overflow: hidden;text-align: left;background-color: #f0f8ff;}#sk-container-id-5 div.sk-toggleable__content pre {margin: 0.2em;color: black;border-radius: 0.25em;background-color: #f0f8ff;}#sk-container-id-5 input.sk-toggleable__control:checked~div.sk-toggleable__content {max-height: 200px;max-width: 100%;overflow: auto;}#sk-container-id-5 input.sk-toggleable__control:checked~label.sk-toggleable__label-arrow:before {content: \"▾\";}#sk-container-id-5 div.sk-estimator input.sk-toggleable__control:checked~label.sk-toggleable__label {background-color: #d4ebff;}#sk-container-id-5 div.sk-label input.sk-toggleable__control:checked~label.sk-toggleable__label {background-color: #d4ebff;}#sk-container-id-5 input.sk-hidden--visually {border: 0;clip: rect(1px 1px 1px 1px);clip: rect(1px, 1px, 1px, 1px);height: 1px;margin: -1px;overflow: hidden;padding: 0;position: absolute;width: 1px;}#sk-container-id-5 div.sk-estimator {font-family: monospace;background-color: #f0f8ff;border: 1px dotted black;border-radius: 0.25em;box-sizing: border-box;margin-bottom: 0.5em;}#sk-container-id-5 div.sk-estimator:hover {background-color: #d4ebff;}#sk-container-id-5 div.sk-parallel-item::after {content: \"\";width: 100%;border-bottom: 1px solid gray;flex-grow: 1;}#sk-container-id-5 div.sk-label:hover label.sk-toggleable__label {background-color: #d4ebff;}#sk-container-id-5 div.sk-serial::before {content: \"\";position: absolute;border-left: 1px solid gray;box-sizing: border-box;top: 0;bottom: 0;left: 50%;z-index: 0;}#sk-container-id-5 div.sk-serial {display: flex;flex-direction: column;align-items: center;background-color: white;padding-right: 0.2em;padding-left: 0.2em;position: relative;}#sk-container-id-5 div.sk-item {position: relative;z-index: 1;}#sk-container-id-5 div.sk-parallel {display: flex;align-items: stretch;justify-content: center;background-color: white;position: relative;}#sk-container-id-5 div.sk-item::before, #sk-container-id-5 div.sk-parallel-item::before {content: \"\";position: absolute;border-left: 1px solid gray;box-sizing: border-box;top: 0;bottom: 0;left: 50%;z-index: -1;}#sk-container-id-5 div.sk-parallel-item {display: flex;flex-direction: column;z-index: 1;position: relative;background-color: white;}#sk-container-id-5 div.sk-parallel-item:first-child::after {align-self: flex-end;width: 50%;}#sk-container-id-5 div.sk-parallel-item:last-child::after {align-self: flex-start;width: 50%;}#sk-container-id-5 div.sk-parallel-item:only-child::after {width: 0;}#sk-container-id-5 div.sk-dashed-wrapped {border: 1px dashed gray;margin: 0 0.4em 0.5em 0.4em;box-sizing: border-box;padding-bottom: 0.4em;background-color: white;}#sk-container-id-5 div.sk-label label {font-family: monospace;font-weight: bold;display: inline-block;line-height: 1.2em;}#sk-container-id-5 div.sk-label-container {text-align: center;}#sk-container-id-5 div.sk-container {/* jupyter's `normalize.less` sets `[hidden] { display: none; }` but bootstrap.min.css set `[hidden] { display: none !important; }` so we also need the `!important` here to be able to override the default hidden behavior on the sphinx rendered scikit-learn.org. See: https://github.com/scikit-learn/scikit-learn/issues/21755 */display: inline-block !important;position: relative;}#sk-container-id-5 div.sk-text-repr-fallback {display: none;}</style><div id=\"sk-container-id-5\" class=\"sk-top-container\"><div class=\"sk-text-repr-fallback\"><pre>KNeighborsClassifier()</pre><b>In a Jupyter environment, please rerun this cell to show the HTML representation or trust the notebook. <br />On GitHub, the HTML representation is unable to render, please try loading this page with nbviewer.org.</b></div><div class=\"sk-container\" hidden><div class=\"sk-item\"><div class=\"sk-estimator sk-toggleable\"><input class=\"sk-toggleable__control sk-hidden--visually\" id=\"sk-estimator-id-5\" type=\"checkbox\" checked><label for=\"sk-estimator-id-5\" class=\"sk-toggleable__label sk-toggleable__label-arrow\">KNeighborsClassifier</label><div class=\"sk-toggleable__content\"><pre>KNeighborsClassifier()</pre></div></div></div></div></div>"
      ],
      "text/plain": [
       "KNeighborsClassifier()"
      ]
     },
     "execution_count": 17,
     "metadata": {},
     "output_type": "execute_result"
    }
   ],
   "source": [
    "from sklearn.neighbors import KNeighborsClassifier\n",
    "model = KNeighborsClassifier(n_neighbors=5)\n",
    "model.fit(X_train_scaled, y_train)"
   ]
  },
  {
   "cell_type": "markdown",
   "id": "f45c6e84",
   "metadata": {},
   "source": [
    "then we measure the performance on the scaled test data,"
   ]
  },
  {
   "cell_type": "code",
   "execution_count": 18,
   "id": "b655bc09",
   "metadata": {
    "execution": {
     "iopub.execute_input": "2023-07-12T13:23:24.499930Z",
     "iopub.status.busy": "2023-07-12T13:23:24.499828Z",
     "iopub.status.idle": "2023-07-12T13:23:24.504029Z",
     "shell.execute_reply": "2023-07-12T13:23:24.503673Z"
    }
   },
   "outputs": [
    {
     "name": "stdout",
     "output_type": "stream",
     "text": [
      "0.951048951048951\n"
     ]
    }
   ],
   "source": [
    "from sklearn import metrics\n",
    "y_pred = model.predict(X_test_scaled)\n",
    "print(metrics.accuracy_score(y_test, y_pred))"
   ]
  },
  {
   "cell_type": "markdown",
   "id": "3b0f5fb0",
   "metadata": {},
   "source": [
    "The score is now 95.1% which is a little better than the 93.7% that we achieved with the $k$-nearest neighbour using the non standardised data.\n",
    "\n",
    "## 6. Hyperparameter optimisation\n",
    "\n",
    "In the previous section, we used the default settings for each of the classifiers. However, each classifier has a number of hyperparameters that can be set to different values and which will have a big impact of the classifier's performance. We saw this with the $k$-Nearest Neighbour classifier, where we could set the value of $k$. However, the more sophisticated classifiers have many more hyperparameters. For example, the SVM classifier has a number of different kernels that can be used, and each kernel has its own hyperparameters. The Random Forest classifier has a number of hyperparameters that control the number of trees, the depth of the trees, etc. The Neural Network classifier has hyperparameters that control the number of hidden layers, the number of neurons in each layer, the activation function, etc.\n",
    "\n",
    "Unlike the regular classifier parameters, hyperparameter values cannot generally be learnt by the classifiers training algorithm. Further, there is no general 'right answer' for the value they should take: it will depend on many factors, such as the nature of the data, the size of the training set, etc. Therefore, we need to experiment with different values for the hyperparameters to find the best combination. This process is called **hyperparameter optimisation** and it is one of the most challenging tasks faced by data scientists.\n",
    "\n",
    "Whereas it can be straightforward to try all (sensible) values of $k$ for the nearest neighbour classifier, it is not feasible to try all possible combinations of hyperparameters for the more sophisticated classifiers. There would simply be too many different possible combinations of values. Instead, we generally need to use some form of optimisation to find a good combination of hyperparameters without necessarily using a complete exhaustive search. These approaches can be very sophisticated. However, for this tutorial we will stick to some simple approaches.\n",
    "\n",
    "### 6.1 Exhaustive Grid Search\n",
    "\n",
    "In this section we will see how to use Scikit-Learn's `GridSearchCV` class to perform an **exhaustive grid search** over a set of hyperparameters. In a grid search, a set of allowable values is defined for each parameter, and then all combinations of the allowed parameter values are tried. The best combination is then reported.\n",
    "\n",
    "We will use the random forest classifier as an example to illustrate this approach. We will use the same train/test split as before.\n",
    "\n",
    "The random forest classifier has several hyperparameters that we can set. We will use the following:\n",
    "\n",
    "- `n_estimators`: the number of trees in the forest,\n",
    "- `max_depth`: the maximum depth of the trees,\n",
    "- `min_samples_split`: the minimum number of samples required to split an internal node,\n",
    "- `min_samples_leaf`: the minimum number of samples required to be at a leaf node.\n",
    "\n",
    "To perform a grid search, we first define a `parameter grid,` i.e., a dictionary that maps parameter names onto a list of values that we want to try. We then create a `GridSearchCV` object, passing it the classifier, the parameter grid, and the number of folds to use for cross-validation. Finally, we call the `fit` method to perform the grid search. The `GridSearchCV` object will then try all combinations of the parameter values and perform cross-validation on each combination. It will then report the best combination of parameters.\n",
    "\n",
    "The code for this is shown below"
   ]
  },
  {
   "cell_type": "code",
   "execution_count": 19,
   "id": "ecca119e",
   "metadata": {
    "execution": {
     "iopub.execute_input": "2023-07-12T13:23:24.505971Z",
     "iopub.status.busy": "2023-07-12T13:23:24.505848Z",
     "iopub.status.idle": "2023-07-12T13:24:57.060180Z",
     "shell.execute_reply": "2023-07-12T13:24:57.059840Z"
    }
   },
   "outputs": [
    {
     "name": "stdout",
     "output_type": "stream",
     "text": [
      "{'max_depth': 8, 'min_samples_leaf': 1, 'min_samples_split': 4, 'n_estimators': 10}\n"
     ]
    }
   ],
   "source": [
    "from sklearn.ensemble import RandomForestClassifier\n",
    "from sklearn.model_selection import GridSearchCV\n",
    "\n",
    "param_grid = {\n",
    "    'n_estimators': [10, 50, 100, 200],\n",
    "    'max_depth': [4, 6, 8, 10],\n",
    "    'min_samples_split': [4, 6, 8, 10],\n",
    "    'min_samples_leaf': [1, 2, 3, 4]\n",
    "}\n",
    "\n",
    "grid_search = GridSearchCV(RandomForestClassifier(), param_grid, cv=5, n_jobs=-1)\n",
    "\n",
    "grid_search.fit(X_train_scaled, y_train)\n",
    "\n",
    "print(grid_search.best_params_)"
   ]
  },
  {
   "cell_type": "markdown",
   "id": "20805add",
   "metadata": {},
   "source": [
    "Once it has finished the output will look something like,"
   ]
  },
  {
   "cell_type": "code",
   "execution_count": 20,
   "id": "366ba255",
   "metadata": {
    "execution": {
     "iopub.execute_input": "2023-07-12T13:24:57.061851Z",
     "iopub.status.busy": "2023-07-12T13:24:57.061730Z",
     "iopub.status.idle": "2023-07-12T13:24:57.064191Z",
     "shell.execute_reply": "2023-07-12T13:24:57.063939Z"
    }
   },
   "outputs": [
    {
     "data": {
      "text/plain": [
       "{'max_depth': 10,\n",
       " 'min_samples_leaf': 1,\n",
       " 'min_samples_split': 4,\n",
       " 'n_estimators': 100}"
      ]
     },
     "execution_count": 20,
     "metadata": {},
     "output_type": "execute_result"
    }
   ],
   "source": [
    "{'max_depth': 10, 'min_samples_leaf': 1, 'min_samples_split': 4, 'n_estimators': 100}"
   ]
  },
  {
   "cell_type": "markdown",
   "id": "18e1f10f",
   "metadata": {},
   "source": [
    "Note, the grid search can take a considerable amount of time. For example, if there are N parameters and for each one we provide M allowable values to check, then there will be M<sup>N</sup> combinations to try. In this case, we have 4 parameters and 4 values for each, so there are 4<sup>4</sup> = 256 combinations to try. This is not too bad, but if we had 10 parameters and 10 values for each, then there would be 10<sup>10</sup> = 10,000,000,000 combinations to try. This would take a very long time. In practice, we would not fully evaluate all combinations, but would use some form of optimisation to try to find the best combination more quickly. We will see how to do this in the next section.\n",
    "\n",
    "In the code above, the parameter `n_jobs=-1` tells the grid search to use all available processors to perform the cross-validation in parallel. Depending on the machine you are running this on, it may speed things up considerably.\n",
    "\n",
    "Let us now reevaluate the classifier using the parameters found by the grid search."
   ]
  },
  {
   "cell_type": "code",
   "execution_count": 21,
   "id": "60fc1e4f",
   "metadata": {
    "execution": {
     "iopub.execute_input": "2023-07-12T13:24:57.065740Z",
     "iopub.status.busy": "2023-07-12T13:24:57.065632Z",
     "iopub.status.idle": "2023-07-12T13:24:57.165475Z",
     "shell.execute_reply": "2023-07-12T13:24:57.165184Z"
    }
   },
   "outputs": [
    {
     "name": "stdout",
     "output_type": "stream",
     "text": [
      "0.972027972027972\n"
     ]
    }
   ],
   "source": [
    "from sklearn.ensemble import RandomForestClassifier\n",
    "model_rf = RandomForestClassifier(max_depth=10, min_samples_leaf=1, min_samples_split=4, n_estimators=100)\n",
    "model_rf.fit(X_train_scaled, y_train)\n",
    "score = model_rf.score(X_test_scaled, y_test)\n",
    "print(score)"
   ]
  },
  {
   "cell_type": "markdown",
   "id": "7ccf6b05",
   "metadata": {},
   "source": [
    "We have achieved a score of 97.2%, which is a little better than the score obtained before. In this case the default parameters were already good and the hyperparameter optimisation has not produced much gain. However, this will not always be the case.\n",
    "\n",
    "Regardless of the type of classifier being used, the process for tuning hyperparameter would be the same. However, the names and suitable values of the parameters that are defined in the parameter grid dictionary will vary.\n",
    "\n",
    "It should be noted that the grid search requires that we have chosen suitable values for the parameter grid. Before searching over the full grid, it can be a good strategy to first vary one parameter at a time while leaving others at their default values. This allows us to quickly scope out the range of values that are likely to be good. We can then use this information to design the parameter grid.\n",
    "\n",
    "### 6.2 Grid Search with Successive Halving\n",
    "\n",
    "The grid search is very inefficient because all parameter settings are fully evaluated, i.e., with the complete cross validation test set. This is wasteful because some parameter settings are clearly worse than others and could have perhaps been rejected on the basis of a much smaller test sample. The **Successive Halving (SH)** approach exploits this fact to arrive at a good search result more efficiently.\n",
    "\n",
    "With SH, we first consider all possible parameter combinations and evaluate them with a small amount of resource (i.e., a small test set). Then we discard the worst half of the parameter combinations and re-evaluate the remaining combinations with a larger amount of resource (i.e., a larger test set). We repeat this process until we are left with just one parameter combination. This is the best combination found by the search.\n",
    "\n",
    "Implementing this strategy from scratch would be quite tricky, but luckily Scikit-Learn provides a `HalvingGridSearchCV` class that implements this strategy for us. Using this class, the code for the SH approach will look very similar to the standard search, but we now simply replace `GridSearchCV` with `HalvingGridSearchCV`. The `HalvingGridSearchCV` constructor takes a parameter `factor` which defines the ratio of the test set size between successive halving steps, i.e., for halving this is set to 2."
   ]
  },
  {
   "cell_type": "code",
   "execution_count": 22,
   "id": "6dadc08b",
   "metadata": {
    "execution": {
     "iopub.execute_input": "2023-07-12T13:24:57.167068Z",
     "iopub.status.busy": "2023-07-12T13:24:57.166971Z",
     "iopub.status.idle": "2023-07-12T13:27:01.559586Z",
     "shell.execute_reply": "2023-07-12T13:27:01.559294Z"
    }
   },
   "outputs": [
    {
     "name": "stdout",
     "output_type": "stream",
     "text": [
      "{'max_depth': 10, 'min_samples_leaf': 2, 'min_samples_split': 8, 'n_estimators': 100}\n"
     ]
    }
   ],
   "source": [
    "from sklearn.experimental import enable_halving_search_cv\n",
    "from sklearn.ensemble import RandomForestClassifier\n",
    "from sklearn.model_selection import HalvingGridSearchCV\n",
    "\n",
    "param_grid = {\n",
    "    'n_estimators': [10, 50, 100, 200],\n",
    "    'max_depth': [4, 6, 8, 10],\n",
    "    'min_samples_split': [4, 6, 8, 10],\n",
    "    'min_samples_leaf': [1, 2, 3, 4]\n",
    "}\n",
    "\n",
    "grid_search = HalvingGridSearchCV(RandomForestClassifier(), param_grid, factor=2, cv=5)\n",
    "\n",
    "grid_search.fit(X_train_scaled, y_train)\n",
    "\n",
    "print(grid_search.best_params_)"
   ]
  },
  {
   "cell_type": "markdown",
   "id": "81b0dc85",
   "metadata": {},
   "source": [
    "The output from this is"
   ]
  },
  {
   "cell_type": "code",
   "execution_count": 23,
   "id": "7f2abaaa",
   "metadata": {
    "execution": {
     "iopub.execute_input": "2023-07-12T13:27:01.561234Z",
     "iopub.status.busy": "2023-07-12T13:27:01.561119Z",
     "iopub.status.idle": "2023-07-12T13:27:01.563460Z",
     "shell.execute_reply": "2023-07-12T13:27:01.563193Z"
    }
   },
   "outputs": [
    {
     "data": {
      "text/plain": [
       "{'max_depth': 6,\n",
       " 'min_samples_leaf': 1,\n",
       " 'min_samples_split': 6,\n",
       " 'n_estimators': 50}"
      ]
     },
     "execution_count": 23,
     "metadata": {},
     "output_type": "execute_result"
    }
   ],
   "source": [
    "{'max_depth': 6, 'min_samples_leaf': 1, 'min_samples_split': 6, 'n_estimators': 50}"
   ]
  },
  {
   "cell_type": "markdown",
   "id": "f97c9aa3",
   "metadata": {},
   "source": [
    "We can test the performance,"
   ]
  },
  {
   "cell_type": "code",
   "execution_count": 24,
   "id": "fa01400a",
   "metadata": {
    "execution": {
     "iopub.execute_input": "2023-07-12T13:27:01.564895Z",
     "iopub.status.busy": "2023-07-12T13:27:01.564791Z",
     "iopub.status.idle": "2023-07-12T13:27:01.608793Z",
     "shell.execute_reply": "2023-07-12T13:27:01.608542Z"
    }
   },
   "outputs": [
    {
     "name": "stdout",
     "output_type": "stream",
     "text": [
      "0.951048951048951\n"
     ]
    }
   ],
   "source": [
    "from sklearn.ensemble import RandomForestClassifier\n",
    "model_rf = RandomForestClassifier(max_depth=6, min_samples_leaf=1, min_samples_split=6, n_estimators=50)\n",
    "model_rf.fit(X_train_scaled, y_train)\n",
    "score = model_rf.score(X_test_scaled, y_test)\n",
    "print(score)"
   ]
  },
  {
   "cell_type": "markdown",
   "id": "b62dd4bd",
   "metadata": {},
   "source": [
    "The score of 96.5% is again about the same as before. For large training datasets the search would run considerably faster than the standard `GridSearchCV`. However, for this small dataset the speed improvement is not particularly noticeable.\n",
    "\n",
    "## 7. Pipelines\n",
    "\n",
    "In the experiments above we first made a standardised copy of the data (i.e., `X_train_scaled` and `X_test_scaled`) and we then used this copy to fit and evaluate the models. It would be very easy to make mistakes when do things this way. For example, we might have standardised the training data but then forgot to standardise the test data. Or we might have standardised the test data using a different standardisation to the training data. In both cases, the model would not perform as expected. We can solve this problem by using a Scikit-Learn **pipeline**.\n",
    "\n",
    "### 7.1 Defining and fitting a pipeline\n",
    "\n",
    "To simplify the code and avoid mismatching the processing applied to training and evaluation, Scikit-Learn introduces the concept of **processing pipelines** which are encapsulated by the `Pipeline` class. A pipeline allows us to define all the preprocessing steps and the classifier as a single object that can then be fitted and evaluated in a single step. This simplifies our code and ensures that the same preprocessing is applied to both the training and test data.\n",
    "\n",
    "The code below shows how to define a pipeline that first applies the standardisation and then applies the random forest classifier."
   ]
  },
  {
   "cell_type": "code",
   "execution_count": 25,
   "id": "6fdf9656",
   "metadata": {
    "execution": {
     "iopub.execute_input": "2023-07-12T13:27:01.610272Z",
     "iopub.status.busy": "2023-07-12T13:27:01.610184Z",
     "iopub.status.idle": "2023-07-12T13:27:01.612930Z",
     "shell.execute_reply": "2023-07-12T13:27:01.612685Z"
    }
   },
   "outputs": [],
   "source": [
    "from sklearn.pipeline import Pipeline\n",
    "from sklearn.ensemble import RandomForestClassifier\n",
    "from sklearn.preprocessing import StandardScaler\n",
    "\n",
    "rf_pipeline = Pipeline([\n",
    "    ('scaler', StandardScaler()),\n",
    "    ('rf', RandomForestClassifier())\n",
    "])"
   ]
  },
  {
   "cell_type": "code",
   "execution_count": 26,
   "id": "0168b11f",
   "metadata": {
    "execution": {
     "iopub.execute_input": "2023-07-12T13:27:01.614352Z",
     "iopub.status.busy": "2023-07-12T13:27:01.614265Z",
     "iopub.status.idle": "2023-07-12T13:27:01.698777Z",
     "shell.execute_reply": "2023-07-12T13:27:01.698515Z"
    }
   },
   "outputs": [
    {
     "name": "stdout",
     "output_type": "stream",
     "text": [
      "0.972027972027972\n"
     ]
    }
   ],
   "source": [
    "rf_pipeline.fit(X_train, y_train)\n",
    "score = rf_pipeline.score(X_test, y_test)\n",
    "print(score)"
   ]
  },
  {
   "cell_type": "markdown",
   "id": "5e4192c8",
   "metadata": {},
   "source": [
    "Note how the pre-processed versions of the data never need to be stored in explicit variables. Also, the `rf_pipeline` acts just like a new estimator and can be dropped in anywhere where the original estimator was used. This means that it can also be used in the context of a grid search. For example, the code below performs a grid search over the hyperparameters of the random forest classifier using our newly defined `rf_pipeline` object."
   ]
  },
  {
   "cell_type": "code",
   "execution_count": 27,
   "id": "33c713f2",
   "metadata": {
    "execution": {
     "iopub.execute_input": "2023-07-12T13:27:01.700238Z",
     "iopub.status.busy": "2023-07-12T13:27:01.700159Z",
     "iopub.status.idle": "2023-07-12T13:27:12.755012Z",
     "shell.execute_reply": "2023-07-12T13:27:12.754586Z"
    }
   },
   "outputs": [],
   "source": [
    "from sklearn.model_selection import GridSearchCV\n",
    "\n",
    "param_grid = {\n",
    "    'rf__n_estimators': [50, 100, 200],\n",
    "    'rf__max_depth': [6, 8, 10],\n",
    "    'rf__min_samples_split': [6, 8, 10]\n",
    "}\n",
    "\n",
    "grid_search = GridSearchCV(rf_pipeline, param_grid, cv=5)\n",
    "\n",
    "grid_search.fit(X_train, y_train)\n",
    "\n",
    "# Replace rf_pipeline with the best estimator found by the grid search\n",
    "rf_pipeline = grid_search.best_estimator_\n",
    "\n",
    "score = rf_pipeline.score(X_test, y_test)"
   ]
  },
  {
   "cell_type": "code",
   "execution_count": 28,
   "id": "b8849a82",
   "metadata": {
    "execution": {
     "iopub.execute_input": "2023-07-12T13:27:12.756718Z",
     "iopub.status.busy": "2023-07-12T13:27:12.756620Z",
     "iopub.status.idle": "2023-07-12T13:27:12.758428Z",
     "shell.execute_reply": "2023-07-12T13:27:12.758156Z"
    }
   },
   "outputs": [
    {
     "name": "stdout",
     "output_type": "stream",
     "text": [
      "0.972027972027972\n"
     ]
    }
   ],
   "source": [
    "print(score)"
   ]
  },
  {
   "cell_type": "markdown",
   "id": "8286b74f",
   "metadata": {},
   "source": [
    "Pipelines can have arbitrarily many data transform stages but they should always end with an estimator. For example, in addition to feature normalisation, we might want to perform data cleaning stages such as removing outliers and/or filling in missing values. Additionally, our preprocessing might include a feature selection or data dimensionality reduction stage. We will see examples of these more complex pipelines in later tutorials.\n",
    "\n",
    "### 7.2 Improving the pipeline efficiency with caching\n",
    "\n",
    "Although pipelines make the code easy to read and right, if care is not taken they can introduce serious inefficiencies. For example, in the above pipeline the standardisation is performed each time the pipeline is fitted (which will be many times during the grid search algorithm). This is wasteful as the standardisation stage will have the same inputs and outputs each time. Although the standardisation is not very computationally expensive, we may have had more costly stages in the pipeline that we would want to avoid recomputing unnecessarily.\n",
    "\n",
    "We can improve the efficiency by using the `memory` parameter of the `Pipeline` constructor. This allows us to specify a directory where the intermediate results of each stage of the pipeline can be **cached**. This means that if the pipeline is fitted multiple times, then the standardisation will only be performed once, i.e., it will look in the cache and retrieve the already computed result if it exists.\n",
    "\n",
    "The code for this looks very similar to before, but note the additional parameter in the `Pipeline` constructor. Note, we would typically use a temporary directory for the cache, and this can be constructed using the `mkdtemp` function from the Python `tempfile` module. The Pipeline constructor can take the name of this directory directly, e.g., like this,"
   ]
  },
  {
   "cell_type": "code",
   "execution_count": 29,
   "id": "1bbc131e",
   "metadata": {
    "execution": {
     "iopub.execute_input": "2023-07-31T16:46:58.931139Z",
     "iopub.status.busy": "2023-07-31T16:46:58.931038Z",
     "iopub.status.idle": "2023-07-31T16:46:58.932959Z",
     "shell.execute_reply": "2023-07-31T16:46:58.932727Z"
    }
   },
   "outputs": [],
   "source": [
    "import tempfile\n",
    "temp_dir_name = tempfile.mkdtemp()\n",
    "pipeline = Pipeline([\n",
    "    ('scaler', StandardScaler()),\n",
    "    ('rf', RandomForestClassifier())\n",
    "], memory=temp_dir_name)"
   ]
  },
  {
   "cell_type": "markdown",
   "id": "5e9e2162",
   "metadata": {},
   "source": [
    "Alternatively, a more sophisticated approach is to use the Python `joblib` module that provides a `Memory` class that can be used to create a cache. This can provide extra functionality such as logging the use of the cache. The Memory object constructor takes the temporary directory name as a parameter. The Pipeline constructor can then take the Memory object as a parameter, i.e., like this,"
   ]
  },
  {
   "cell_type": "code",
   "execution_count": 30,
   "id": "83216c40",
   "metadata": {
    "execution": {
     "iopub.execute_input": "2023-07-31T16:46:58.934344Z",
     "iopub.status.busy": "2023-07-31T16:46:58.934235Z",
     "iopub.status.idle": "2023-07-31T16:46:58.936397Z",
     "shell.execute_reply": "2023-07-31T16:46:58.936165Z"
    }
   },
   "outputs": [],
   "source": [
    "from joblib import Memory\n",
    "import tempfile\n",
    "\n",
    "temp_dir_name = tempfile.mkdtemp()\n",
    "cache = Memory(location=temp_dir_name, verbose=0)\n",
    "pipeline = Pipeline([\n",
    "    ('scaler', StandardScaler()),\n",
    "    ('rf', RandomForestClassifier())\n",
    "], memory=cache)"
   ]
  },
  {
   "cell_type": "markdown",
   "id": "ec66c4a5",
   "metadata": {},
   "source": [
    "The full code is shown below,"
   ]
  },
  {
   "cell_type": "code",
   "execution_count": 31,
   "id": "f05e70e0",
   "metadata": {
    "execution": {
     "iopub.execute_input": "2023-07-31T16:46:58.937894Z",
     "iopub.status.busy": "2023-07-31T16:46:58.937785Z",
     "iopub.status.idle": "2023-07-31T16:47:10.650487Z",
     "shell.execute_reply": "2023-07-31T16:47:10.650191Z"
    }
   },
   "outputs": [],
   "source": [
    "from sklearn.pipeline import Pipeline\n",
    "from sklearn.ensemble import RandomForestClassifier\n",
    "from sklearn.preprocessing import StandardScaler\n",
    "\n",
    "rf_pipeline = Pipeline([\n",
    "    ('scaler', StandardScaler()),\n",
    "    ('rf', RandomForestClassifier())\n",
    "], memory='cache')  # This parameter\n",
    "\n",
    "rf_pipeline.fit(X_train, y_train)\n",
    "\n",
    "param_grid = {\n",
    "    'rf__n_estimators': [50, 100, 200],\n",
    "    'rf__max_depth': [6, 8, 10],\n",
    "    'rf__min_samples_split': [6, 8, 10]\n",
    "}\n",
    "\n",
    "grid_search = GridSearchCV(rf_pipeline, param_grid, cv=5)\n",
    "\n",
    "grid_search.fit(X_train, y_train)\n",
    "\n",
    "# Replace rf_pipeline with the best estimator found by the grid search\n",
    "rf_pipeline = grid_search.best_estimator_\n",
    "\n",
    "score = rf_pipeline.score(X_test, y_test)"
   ]
  },
  {
   "cell_type": "markdown",
   "id": "e9c66c41",
   "metadata": {},
   "source": [
    "The code should run fractionally faster but produce the same result."
   ]
  },
  {
   "cell_type": "code",
   "execution_count": 32,
   "id": "f0a1a8fe",
   "metadata": {
    "execution": {
     "iopub.execute_input": "2023-07-31T16:47:10.652242Z",
     "iopub.status.busy": "2023-07-31T16:47:10.652148Z",
     "iopub.status.idle": "2023-07-31T16:47:10.654108Z",
     "shell.execute_reply": "2023-07-31T16:47:10.653850Z"
    }
   },
   "outputs": [
    {
     "name": "stdout",
     "output_type": "stream",
     "text": [
      "0.958041958041958\n"
     ]
    }
   ],
   "source": [
    "print(score)"
   ]
  },
  {
   "cell_type": "markdown",
   "id": "1a781612",
   "metadata": {},
   "source": [
    "## 8. Receiver Operator Curves (ROC)\n",
    "\n",
    "So far we have just been looking at the overall accuracy of the classifier. However, this does not tell us how the classifier is performing on each specific class. For example, in the breast cancer dataset, we are interested in how well the classifier is performing for the malignant class. We can get more insight into this by looking at the confusion matrix."
   ]
  },
  {
   "cell_type": "code",
   "execution_count": 29,
   "id": "b3576c69",
   "metadata": {
    "execution": {
     "iopub.execute_input": "2023-07-12T13:27:12.759931Z",
     "iopub.status.busy": "2023-07-12T13:27:12.759824Z",
     "iopub.status.idle": "2023-07-12T13:27:12.764705Z",
     "shell.execute_reply": "2023-07-12T13:27:12.764448Z"
    }
   },
   "outputs": [],
   "source": [
    "from sklearn.metrics import confusion_matrix\n",
    "y_pred = rf_pipeline.predict(X_test)\n",
    "cm = confusion_matrix(y_test, y_pred)"
   ]
  },
  {
   "cell_type": "code",
   "execution_count": 30,
   "id": "6ad3abfc",
   "metadata": {
    "execution": {
     "iopub.execute_input": "2023-07-12T13:27:12.766091Z",
     "iopub.status.busy": "2023-07-12T13:27:12.766004Z",
     "iopub.status.idle": "2023-07-12T13:27:12.767705Z",
     "shell.execute_reply": "2023-07-12T13:27:12.767462Z"
    }
   },
   "outputs": [
    {
     "name": "stdout",
     "output_type": "stream",
     "text": [
      "[[52  1]\n",
      " [ 3 87]]\n"
     ]
    }
   ],
   "source": [
    "print(cm)"
   ]
  },
  {
   "cell_type": "markdown",
   "id": "6e271877",
   "metadata": {},
   "source": [
    "We can see from confusion matrix that the classifier is mistaking one malignant case as non-malignant (i.e., a false negative) and 3 non-malignant cases as malignant (i.e., false positives). If this was a medical application, we would be more concerned about the false negatives as this would mean that a patient with cancer would be treated as healthy and then would not be treated.\n",
    "\n",
    "For a binary classifier such as this, we can change the behaviour of the classifier by biasing it towards choosing one class over another. This can be done by estimating a probability for the sample belonging to the positive class (i.e., cancer present) and then defining a threshold above which we would output this class (i.e., changing the **detection threshold**). In the normal behaviour we would output the positive class if the probability is greater than 0.5. However, we could raise or lower this threshold: if we lower the threshold the system will report more positive cases and fewer false negatives, i.e., the **false negative rate (FNR)** would decrease but at the expense of a higher **false positive rate (FPR)**.\n",
    "\n",
    "In order to get a complete picture of the classifier's behaviour it is typical to evaluate its false positive and false negative rate over a range of detection thresholds.  When we do this we usually display the results by plotting a graph of the **true positive rate (TPR)**  versus the **false positive rate (FPR)**. This is called a **Receiver Operator (ROC) curve**. With this graph available, a user can then decide how best to set the threshold, i.e., at which point on the ROC curve they want the system to operate.\n",
    "\n",
    "```{Note}\n",
    "The true positive rate is related to the false negative rate by $TPR = 1 - FNR$. Similarly, false positive rate and true negative rate are related by $FPR = 1 - TNR$. i.e., there are two independent quantities but four different names: which name is used depends on the context.\n",
    "```\n",
    "\n",
    "Scikit-Learn provides a single function `RocCurveDisplay` that computes the TPR and FPR over a range of threshold values and plots the corresponding ROC curve. We can use this as follows,"
   ]
  },
  {
   "cell_type": "code",
   "execution_count": 31,
   "id": "bf5d7e49",
   "metadata": {
    "execution": {
     "iopub.execute_input": "2023-07-12T13:27:12.769124Z",
     "iopub.status.busy": "2023-07-12T13:27:12.769040Z",
     "iopub.status.idle": "2023-07-12T13:27:12.835228Z",
     "shell.execute_reply": "2023-07-12T13:27:12.834926Z"
    }
   },
   "outputs": [
    {
     "data": {
      "image/png": "[encoded data removed]",
      "text/plain": [
       "<Figure size 640x480 with 1 Axes>"
      ]
     },
     "metadata": {},
     "output_type": "display_data"
    }
   ],
   "source": [
    "from sklearn.metrics import RocCurveDisplay\n",
    "\n",
    "RocCurveDisplay.from_estimator(rf_pipeline, X_test, y_test)\n",
    "plt.show()"
   ]
  },
  {
   "cell_type": "markdown",
   "id": "5e81c462",
   "metadata": {},
   "source": [
    "Taking this plot as an example, say we want to have the false negative rate to be close to zero, i.e., given that TPR = 1 - FNR, we want the TPR to be close to 1.0.  We can see from the plot that the lowest FPR value that can achieve this is about 0.2. This means that if this was a screening test, in order not to miss cancerous cases (i.e., to have a FNR close to 0) then 20% of the healthy subjects would receive false positive results, i.e. 20% of the healthy people would be referred for further investigation. This would probably be unacceptable in a real application -- we would need a better classifier.\n",
    "\n",
    "In truth, this dataset is really far too small to be able to reliably train and evaluate a model. We could use a leave-one-out testing regime to get more value from the data, but to build a classifier that performs significantly better and approaches the performance needed for real application, we would probably need to find a bigger training dataset, and perhaps a better set of features.\n",
    "\n",
    "## 9. Summary\n",
    "\n",
    "In this tutorial we have covered a lot of ground. We have seen how to use Scikit-Learn to build and evaluate a number of different classifiers. We have seen how to use Scikit-Learn's `GridSearchCV` and `HalvingGridSearchCV` classes to perform hyperparameter optimisation. We have also seen how to use Scikit-Learn's `Pipeline` class to define a pipeline that encapsulates both the data preprocessing and the classifier. Finally, we have seen how to use Scikit-Learn's `RocCurveDisplay` class to plot the ROC curve for a binary classifier.\n",
    "\n",
    "For each of these topics, we have only had space to cover the most basic usage. Having used this tutorial to gain an overview, you are encouraged to read the excellent Scikit-Learn documentation (<https://scikit-learn.org/stable/index.html>) which comes complete with many examples showing how the tools can be applied to real problems."
   ]
  }
 ],
 "metadata": {
  "jupytext": {
   "cell_metadata_filter": "-all"
  },
  "kernelspec": {
   "display_name": "Python 3 (ipykernel)",
   "language": "python",
   "name": "python3"
  },
  "language_info": {
   "codemirror_mode": {
    "name": "ipython",
    "version": 3
   },
   "file_extension": ".py",
   "mimetype": "text/x-python",
   "name": "python",
   "nbconvert_exporter": "python",
   "pygments_lexer": "ipython3",
   "version": "3.10.12"
  }
 },
 "nbformat": 4,
 "nbformat_minor": 5
}
