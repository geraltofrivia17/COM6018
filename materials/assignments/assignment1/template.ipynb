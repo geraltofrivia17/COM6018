{
 "cells": [
  {
   "cell_type": "markdown",
   "metadata": {},
   "source": [
    "# COM6018 - Assignment 1\n",
    "\n",
    "Student Username: ` !!! add your username here !!! `\n",
    "\n",
    "## Analysing Carbon Emissions Data\n",
    "\n",
    "Before attempting the assignment make sure that you have read the accompanying assignment notes document carefully. This explains important details about what is expected and how you will be assessed."
   ]
  },
  {
   "cell_type": "markdown",
   "metadata": {},
   "source": [
    "## Loading the data\n",
    "\n",
    "The data is being read from the file `owid-co2-data.csv` which you must download and store in the same directory as this notebook. Please leave the cell below unchanged. "
   ]
  },
  {
   "cell_type": "code",
   "execution_count": 7,
   "metadata": {},
   "outputs": [],
   "source": [
    "import pandas as pd\n",
    "\n",
    "df = pd.read_csv('owid-co2-data.csv')"
   ]
  },
  {
   "cell_type": "markdown",
   "metadata": {},
   "source": [
    "Add any further imports that your notebook needs in the cell below. If you are not using any then simply leave the cell blank. Remember, you are only allowed to use modules from the standard Python library, plus pandas, numpy, matplotlib and seaborn."
   ]
  },
  {
   "cell_type": "code",
   "execution_count": 8,
   "metadata": {},
   "outputs": [],
   "source": [
    "# SOLUTION\n",
    "\n",
    "# Add any further imports that your notebook needs in this cell."
   ]
  },
  {
   "cell_type": "markdown",
   "metadata": {},
   "source": [
    "## Q1. The growth of CO<sub>2</sub> emissions\n",
    "\n",
    "*How have CO<sub>2</sub> emissions grown over time?*\n",
    "\n",
    "The dataset contains entries for countries grouped into four income groups: low, lower-middle, upper-middle and high. i) How have the total annual CO<sub>2</sub> emissions of each income group varied over the years 1950 to 2021? ii) How has the per capita CO<sub>2</sub> emissions (i.e., the emissions per person) of these groups varied over the same period. Comment on how the contribution of each income group is different when measured in terms of total emissions and per capita emissions.\n",
    "\n",
    "(Add your solution below. Add further markdown and code cells as needed.)"
   ]
  },
  {
   "cell_type": "code",
   "execution_count": 9,
   "metadata": {},
   "outputs": [],
   "source": [
    "# ADD SOLUTION HERE. ADD AS MANY CELLS AS YOU NEED.\n"
   ]
  },
  {
   "cell_type": "markdown",
   "metadata": {},
   "source": [
    "## Q2. The share of CO2 emissions by country over time.\n",
    "\n",
    "*Which countries have the highest CO<sub>2</sub> emissions?*\n",
    "\n",
    "Compare the share of global carbon emissions for the top 5 emitting countries as a proportion of the total world emissions. Make separate plots for the years 1960, 1990 and 2020. Make a similar set of plots but normalised in a way that accounts for the population of each country. Note, all the plots should appear in the same figure.\n",
    "\n",
    "Comment on how the top 5 emitting countries have changed over time and how the top 5 emitting countries change when you normalise for population.\n",
    "\n",
    "(Add your solution below. Add further markdown and code cells as needed.)"
   ]
  },
  {
   "cell_type": "code",
   "execution_count": 10,
   "metadata": {},
   "outputs": [],
   "source": [
    "# ADD SOLUTION HERE. ADD AS MANY CELLS AS YOU NEED.\n"
   ]
  },
  {
   "cell_type": "markdown",
   "metadata": {},
   "source": [
    "## Q3. The link between GDP and CO<sub>2</sub> emissions\n",
    "\n",
    "*Do countries with high GDP always have high per capita CO<sub>2</sub> emissions.* \n",
    "\n",
    "Plot the per capita CO<sub>2</sub> emissions against the GDP per capita for each country. Design your plot so that the size of the marker is proportional to the population of the country. Only consider countries with a population of at leat 5 million people. \n",
    "\n",
    "Compare these plots for the year 1978, 1998 and 2018.  Comment on the relationship between the two variables and how it has changed over time.\n",
    "\n",
    "(Add your solution below. Add further markdown and code cells as needed.)"
   ]
  },
  {
   "cell_type": "code",
   "execution_count": 11,
   "metadata": {},
   "outputs": [],
   "source": [
    "# ADD SOLUTION HERE. ADD AS MANY CELLS AS YOU NEED.\n"
   ]
  },
  {
   "cell_type": "markdown",
   "metadata": {},
   "source": [
    "## Q4. The development of wealth inequality over time.\n",
    "\n",
    "*Has the distribution of wealth across countries become more or less equal over time?*\n",
    "\n",
    "Make a plot that compares the distribution of GDP per capita across the countries in the world and 10-yearly intervals from 1950 to 2020.  Comment on how the distribution has changed over time.\n",
    "\n",
    "(Add your solution below. Add further markdown and code cells as needed.)"
   ]
  },
  {
   "cell_type": "code",
   "execution_count": 6,
   "metadata": {},
   "outputs": [],
   "source": [
    "# ADD SOLUTION HERE. ADD AS MANY CELLS AS YOU NEED.\n"
   ]
  },
  {
   "cell_type": "markdown",
   "metadata": {},
   "source": [
    "## Reminder\n",
    "\n",
    "Before submitting your notebook make sure that it runs correctly from the beginning by selecting \"Restart and run all\" from the Kernel menu. Make sure that you save your notebook using the name `COM6018-assignment1-<your-student-username>.ipynb`. For example, if your username is 'ac1jpb' then your notebook should be named `COM6018-assignment1-ac1jpb.ipynb`. To submit, follow the instruction in the accompanying assignment instructions document. For late submission, unless there are extenuating circumstances, standard lateness penalties will be applied."
   ]
  }
 ],
 "metadata": {
  "kernelspec": {
   "display_name": "com6018_dev",
   "language": "python",
   "name": "python3"
  },
  "language_info": {
   "codemirror_mode": {
    "name": "ipython",
    "version": 3
   },
   "file_extension": ".py",
   "mimetype": "text/x-python",
   "name": "python",
   "nbconvert_exporter": "python",
   "pygments_lexer": "ipython3",
   "version": "3.11.5"
  },
  "orig_nbformat": 4
 },
 "nbformat": 4,
 "nbformat_minor": 2
}
